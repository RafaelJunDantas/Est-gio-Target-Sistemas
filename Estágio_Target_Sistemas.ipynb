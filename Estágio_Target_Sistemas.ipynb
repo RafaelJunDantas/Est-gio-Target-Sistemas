{
  "nbformat": 4,
  "nbformat_minor": 0,
  "metadata": {
    "colab": {
      "provenance": []
    },
    "kernelspec": {
      "name": "python3",
      "display_name": "Python 3"
    },
    "language_info": {
      "name": "python"
    }
  },
  "cells": [
    {
      "cell_type": "markdown",
      "source": [
        "# Estágio - Target Sistemas"
      ],
      "metadata": {
        "id": "6SjJWn8puO2v"
      }
    },
    {
      "cell_type": "markdown",
      "source": [
        "## Questão 1\n",
        "\n",
        "1) Observe o trecho de código abaixo:\n",
        "\n",
        "int INDICE = 13, SOMA = 0, K = 0;\n",
        "\n",
        "enquanto K < INDICE faça\n",
        "\n",
        "{\n",
        "\n",
        "K = K + 1;\n",
        "\n",
        "SOMA = SOMA + K;\n",
        "\n",
        "}\n",
        "\n",
        "imprimir(SOMA);\n",
        "\n",
        "\n",
        "\n",
        "Ao final do processamento, qual será o valor da variável SOMA?"
      ],
      "metadata": {
        "id": "uYqexLzOuLLY"
      }
    },
    {
      "cell_type": "code",
      "source": [
        "indice = 13\n",
        "soma = 0\n",
        "k = 0\n",
        "\n",
        "while(k < indice):\n",
        "  k = k + 1\n",
        "  soma = soma + k\n",
        "\n",
        "print(\"Valor da varíavel soma: %d\" % soma)"
      ],
      "metadata": {
        "colab": {
          "base_uri": "https://localhost:8080/"
        },
        "id": "j_NvIdNKuNd5",
        "outputId": "58feeb3e-b0c6-4bd5-b319-e8b753452c52"
      },
      "execution_count": 12,
      "outputs": [
        {
          "output_type": "stream",
          "name": "stdout",
          "text": [
            "Valor da varíavel soma: 91\n"
          ]
        }
      ]
    },
    {
      "cell_type": "markdown",
      "source": [
        "## Questão 2\n",
        "\n",
        "2) Dado a sequência de Fibonacci, onde se inicia por 0 e 1 e o próximo valor sempre será a soma dos 2 valores anteriores (exemplo: 0, 1, 1, 2, 3, 5, 8, 13, 21, 34...), escreva um programa na linguagem que desejar onde, informado um número, ele calcule a sequência de Fibonacci e retorne uma mensagem avisando se o número informado pertence ou não a sequência.\n",
        "\n",
        "\n",
        "\n",
        "IMPORTANTE:\n",
        "\n",
        "Esse número pode ser informado através de qualquer entrada de sua preferência ou pode ser previamente definido no código;\n"
      ],
      "metadata": {
        "id": "3VraEJnRv21E"
      }
    },
    {
      "cell_type": "code",
      "source": [
        "# número para verificar se pertence ou não a sequência de fibonacci\n",
        "numero = 144\n",
        "\n",
        "n1 = 0\n",
        "n2 = 1\n",
        "\n",
        "while(n2 < numero):\n",
        "  aux = n2\n",
        "  n2 = n2 + n1\n",
        "  n1 = aux\n",
        "\n",
        "if(numero == n1 or numero == n2):\n",
        "  print(\"O número %d pertence a sequência de fibonacci\" % numero)\n",
        "else:\n",
        "  print(\"O número %d não pertence a sequência de fibonacci\" % numero)"
      ],
      "metadata": {
        "colab": {
          "base_uri": "https://localhost:8080/"
        },
        "id": "6mZSBJaOv-Up",
        "outputId": "b97bc7d2-9385-42b3-fa3d-76464fd9b43e"
      },
      "execution_count": 18,
      "outputs": [
        {
          "output_type": "stream",
          "name": "stdout",
          "text": [
            "O número 144 pertence a sequência de fibonacci\n"
          ]
        }
      ]
    },
    {
      "cell_type": "markdown",
      "source": [
        "## Questão 3\n",
        "\n",
        "3) Descubra a lógica e complete o próximo elemento:\n",
        "\n",
        "\n",
        "\n",
        "a) 1, 3, 5, 7, ___\n",
        "\n",
        "b) 2, 4, 8, 16, 32, 64, ____\n",
        "\n",
        "c) 0, 1, 4, 9, 16, 25, 36, ____\n",
        "\n",
        "d) 4, 16, 36, 64, ____\n",
        "\n",
        "e) 1, 1, 2, 3, 5, 8, ____\n",
        "\n",
        "f) 2, 10, 12, 16, 17, 18, 19, ____"
      ],
      "metadata": {
        "id": "FKdw7SQlxsfN"
      }
    },
    {
      "cell_type": "markdown",
      "source": [
        "## Respostas:\n",
        "\n",
        "a) 1, 3, 5, 7, **9**\n",
        "\n",
        "* 1 + 2 = 3\n",
        "* 3 + 2 = 5\n",
        "* 5 + 2 = 7\n",
        "* 7 + 2 = 9\n",
        "\n",
        "b) 2, 4, 8, 16, 32, **64**\n",
        "\n",
        "* 1 * 2 = 2\n",
        "* 2 * 2 = 4\n",
        "* 4 * 2 = 8\n",
        "* 8 * 2 = 16\n",
        "* 16 * 2 = 32\n",
        "* 32 * 2 = 64\n",
        "\n",
        "c) 0, 1, 4, 9, 16, 25, 36, **49**\n",
        "\n",
        "* 0^2 = 0\n",
        "* 1^2 = 1\n",
        "* 2^2 = 4\n",
        "* 3^2 = 9\n",
        "* 4^2 = 16\n",
        "* 5^2 = 25\n",
        "* 6^2 = 36\n",
        "* 7^2 = 49\n",
        "\n",
        "d) 4, 16, 36, 64, **100**\n",
        "\n",
        "* 2^2 = 4\n",
        "* 4^2 = 16\n",
        "* 6^2 = 36\n",
        "* 8^2 = 64\n",
        "* 10^2 = 100\n",
        "\n",
        "e) 1, 1, 2, 3, 5, 8, **13**\n",
        "\n",
        "* 1 + 1 = 2\n",
        "* 1 + 2 = 3\n",
        "* 2 + 3 = 5\n",
        "* 3 + 5 = 8\n",
        "* 5 + 8 = 13\n",
        "\n",
        "f) 2, 10, 12, 16, 17, 18, 19, **200**\n",
        "\n",
        "* 2 -> **d**ois\n",
        "* 10 -> **d**ez\n",
        "* 12 -> **d**oze\n",
        "* 16 -> **d**ezesseis\n",
        "* 17 -> **d**ezessete\n",
        "* 18 -> **d**ezoito\n",
        "* 19 -> **d**ezenove\n",
        "* 200 -> **d**uzentos"
      ],
      "metadata": {
        "id": "WiUanY-txw5k"
      }
    },
    {
      "cell_type": "markdown",
      "source": [
        "## Questão 4\n",
        "\n",
        "4) Você está em uma sala com três interruptores, cada um conectado a uma lâmpada em uma sala diferente. Você não pode ver as lâmpadas da sala em que está, mas pode ligar e desligar os interruptores quantas vezes quiser. Seu objetivo é descobrir qual interruptor controla qual lâmpada.\n",
        "\n",
        "Como você faria para descobrir, usando apenas duas idas até uma das salas das lâmpadas, qual interruptor controla cada lâmpada?"
      ],
      "metadata": {
        "id": "cgHW9p600y1t"
      }
    },
    {
      "cell_type": "markdown",
      "source": [
        "## Resolução\n",
        "\n",
        "Quando tentei resolver essa questão, nunca conseguia chegar em uma solução que garantia uma respota, sempre acabava dependo de sorte no final. Por isso, pesquisei sobre essa questão e acabei achando respostas muito interessantes que levavam em conta se a lampâda estava quente ou não. Entretanto, qual a garantia que eu alcançaria a lâmpada, caso, por exemplo, estivesse no teto. Teria algum objeto para me auxiliar? Se caso tivesse, uma outra solução, no meu ponto de vista, posicionar os objetos para criarem sombras quando as luzes forem acesas.\n",
        "\n",
        "\n"
      ],
      "metadata": {
        "id": "OTs-B1RW03fe"
      }
    },
    {
      "cell_type": "markdown",
      "source": [
        "## Questão 5\n",
        "\n",
        "5) Escreva um programa que inverta os caracteres de um string.\n",
        "\n",
        "\n",
        "IMPORTANTE:\n",
        "\n",
        "a) Essa string pode ser informada através de qualquer entrada de sua preferência ou pode ser previamente definida no código;\n",
        "\n",
        "b) Evite usar funções prontas, como, por exemplo, reverse;"
      ],
      "metadata": {
        "id": "6V8O3Mcc1rMc"
      }
    },
    {
      "cell_type": "code",
      "source": [
        "# string recebe a palavra para inverter\n",
        "string = \"teste\"\n",
        "stringInverted = []\n",
        "\n",
        "# inverte letra por letra da palavra\n",
        "for i in range (len(string) - 1, -1, -1):\n",
        "  stringInverted.append(string[i])\n",
        "\n",
        "# converte a lista em string\n",
        "print(\"Palavra original: \" + string + \", Palavra invertida: \" + \"\".join(stringInverted))"
      ],
      "metadata": {
        "colab": {
          "base_uri": "https://localhost:8080/"
        },
        "id": "nlDakL3o1tPu",
        "outputId": "b42e523d-9611-4e6d-9bfe-965c83449df4"
      },
      "execution_count": 41,
      "outputs": [
        {
          "output_type": "stream",
          "name": "stdout",
          "text": [
            "Palavra original: teste, Palavra invertida: etset\n"
          ]
        }
      ]
    }
  ]
}